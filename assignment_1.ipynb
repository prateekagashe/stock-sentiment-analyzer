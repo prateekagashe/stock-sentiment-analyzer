{
 "cells": [
  {
   "cell_type": "code",
   "execution_count": 2,
   "id": "6d290d2d",
   "metadata": {},
   "outputs": [
    {
     "name": "stdout",
     "output_type": "stream",
     "text": [
      "Requirement already satisfied: mlflow in /home/zadmin/Desktop/GAAI-B4-Azure/genai/lib/python3.12/site-packages (3.3.2)\n",
      "Requirement already satisfied: yfinance in /home/zadmin/Desktop/GAAI-B4-Azure/genai/lib/python3.12/site-packages (0.2.66)\n",
      "Requirement already satisfied: langchain in /home/zadmin/Desktop/GAAI-B4-Azure/genai/lib/python3.12/site-packages (0.3.27)\n",
      "Requirement already satisfied: langchain-community in /home/zadmin/Desktop/GAAI-B4-Azure/genai/lib/python3.12/site-packages (0.3.27)\n",
      "Requirement already satisfied: newsapi-python in /home/zadmin/Desktop/GAAI-B4-Azure/genai/lib/python3.12/site-packages (0.2.7)\n",
      "\u001b[31mERROR: Could not find a version that satisfies the requirement yfinance--quiet (from versions: none)\u001b[0m\u001b[31m\n",
      "\u001b[0m\u001b[31mERROR: No matching distribution found for yfinance--quiet\u001b[0m\u001b[31m\n",
      "\u001b[0m"
     ]
    }
   ],
   "source": [
    "!python -m pip install mlflow yfinance langchain langchain-community newsapi-python yfinance--quiet\n"
   ]
  },
  {
   "cell_type": "code",
   "execution_count": 4,
   "id": "40c000dd",
   "metadata": {},
   "outputs": [],
   "source": [
    "from openai import AzureOpenAI\n",
    "client = AzureOpenAI()"
   ]
  },
  {
   "cell_type": "code",
   "execution_count": null,
   "id": "403f42d7",
   "metadata": {},
   "outputs": [],
   "source": []
  },
  {
   "cell_type": "code",
   "execution_count": 5,
   "id": "941c9929",
   "metadata": {},
   "outputs": [
    {
     "name": "stdout",
     "output_type": "stream",
     "text": [
      "3.3.2\n"
     ]
    }
   ],
   "source": [
    "import mlflow\n",
    "mlflow.set_tracking_uri(\"http://20.75.92.162:5000/\")\n",
    "print(mlflow.__version__)"
   ]
  },
  {
   "cell_type": "code",
   "execution_count": null,
   "id": "63177404",
   "metadata": {},
   "outputs": [],
   "source": []
  },
  {
   "cell_type": "code",
   "execution_count": 6,
   "id": "ead1c9ef",
   "metadata": {},
   "outputs": [],
   "source": [
    "from pydantic import BaseModel\n",
    "from langchain.output_parsers import PydanticOutputParser\n",
    "from langchain.prompts import PromptTemplate\n",
    "\n",
    "class Stock(BaseModel):\n",
    "    name: str\n",
    "    stock_code: str\n",
    "\n",
    "class StockResponse(BaseModel):\n",
    "    companies: list[Stock]\n",
    "\n",
    "parser = PydanticOutputParser(pydantic_object=StockResponse)\n"
   ]
  },
  {
   "cell_type": "code",
   "execution_count": 7,
   "id": "820f5d84",
   "metadata": {},
   "outputs": [],
   "source": [
    "from langchain_openai import AzureChatOpenAI\n",
    "model_name='gpt4o'\n",
    "model = AzureChatOpenAI(model=model_name)\n"
   ]
  },
  {
   "cell_type": "code",
   "execution_count": 8,
   "id": "382b4b5d",
   "metadata": {},
   "outputs": [],
   "source": [
    "# import mlflow\n",
    "# from functools import wraps\n",
    "\n",
    "# def mlflow_log(func):\n",
    "#     @wraps(func)\n",
    "#     def wrapper(*args, **kwargs):\n",
    "#         with mlflow.start_run(run_name=f\"{func.__name__}_prateekagashe\", nested=True):\n",
    "#             mlflow.log_text(str(args), artifact_file=\"args.txt\")\n",
    "#             mlflow.log_text(str(kwargs), artifact_file=\"kwargs.txt\")\n",
    "\n",
    "#             result = func(*args, **kwargs)\n",
    "\n",
    "#             mlflow.log_text(str(result), artifact_file=\"result.txt\")\n",
    "#             return result\n",
    "#     return wrapper\n",
    "\n",
    "\n",
    "def mlflow_log(func):\n",
    "    def wrapper(*args, **kwargs):\n",
    "        result = func(*args, **kwargs)\n",
    "        mlflow.log_text(str(result), f\"{func.__name__}_output.txt\")\n",
    "        return result\n",
    "    return wrapper\n"
   ]
  },
  {
   "cell_type": "code",
   "execution_count": 7,
   "id": "1c9b08ee",
   "metadata": {},
   "outputs": [
    {
     "name": "stderr",
     "output_type": "stream",
     "text": [
      "2025/09/21 16:15:49 INFO mlflow.store.model_registry.abstract_store: Waiting up to 300 seconds for prompt version to finish creation. Prompt name: prateekagashe-stock-code-prompt, version 6\n"
     ]
    },
    {
     "name": "stdout",
     "output_type": "stream",
     "text": [
      "Created prompt 'prateekagashe-stock-code-prompt' (version 6)\n"
     ]
    }
   ],
   "source": [
    "import mlflow\n",
    "\n",
    "initial_template = \"\"\"\\\n",
    "Generate stock code for the following company(s) {{ company_name }}.\n",
    "\n",
    "Return JSON with stock codes. Include exchange suffix if not US stock. \n",
    "Example:\n",
    "\n",
    "{\n",
    "  \"companies\": [\n",
    "    {\"name\": \"Microsoft\", \"stock_code\": \"MSFT\"},\n",
    "    {\"name\": \"Apple\", \"stock_code\": \"AAPL\"},\n",
    "    {\"name\": \"Tesla\", \"stock_code\": \"TSLA\"},\n",
    "    {\"name\": \"TCS\", \"stock_code\": \"TCS.NS\"} # example for outside US stock\n",
    "  ]\n",
    "}\n",
    "\n",
    "\n",
    "\n",
    "Do not use any other keys, do not include explanations or text outside JSON.\n",
    "\"\"\"\n",
    "\n",
    "prompt = mlflow.genai.register_prompt(\n",
    "    name=\"prateekagashe-stock-code-prompt\",\n",
    "    template=initial_template,\n",
    "    commit_message=\"Initial commit\",\n",
    "    tags={\n",
    "        \"author\": \"Prateek Agashe\",\n",
    "        \"task\": \"Stock Coge Generation\",\n",
    "        \"language\": \"en\",\n",
    "        'llm': 'gpt-4o-mini'\n",
    "    },\n",
    ")\n",
    "\n",
    "print(f\"Created prompt '{prompt.name}' (version {prompt.version})\")"
   ]
  },
  {
   "cell_type": "code",
   "execution_count": 50,
   "id": "98323d7b",
   "metadata": {},
   "outputs": [
    {
     "name": "stderr",
     "output_type": "stream",
     "text": [
      "2025/09/21 18:48:33 INFO mlflow.store.model_registry.abstract_store: Waiting up to 300 seconds for prompt version to finish creation. Prompt name: prateekagashe-sentiment-analyzer-prompt, version 9\n"
     ]
    },
    {
     "name": "stdout",
     "output_type": "stream",
     "text": [
      "Created prompt 'prateekagashe-sentiment-analyzer-prompt' (version 9)\n"
     ]
    }
   ],
   "source": [
    "import mlflow\n",
    "\n",
    "initial_template = \"\"\"\\\n",
    "Analyze the following news article for the company {{ company_name }} ({{ stock_code }}).\n",
    "\n",
    "Return a JSON object with the following fields:\n",
    "- company_name: string (always return exactly as provided)\n",
    "- stock_code: string (always return exactly as provided)\n",
    "- newsdesc: string (the full news article text exactly as provided)\n",
    "- sentiment: one of [\"Positive\", \"Negative\", \"Neutral\"]\n",
    "- people_names: list of people mentioned\n",
    "- places_names: list of places mentioned\n",
    "- other_companies_referred: list of other companies mentioned\n",
    "- related_industries: list of related industries\n",
    "- market_implications: a short explanation of how this news could affect the market perception or stock\n",
    "- confidence_score: float between 0 and 1\n",
    "\n",
    "News Article:\n",
    "{{ news_text }}\n",
    "\n",
    "Return a JSON object following these format instructions:\n",
    "\n",
    "{{format_instructions}}\n",
    "\n",
    "Do not include explanations, commentary, or any keys not listed above.\n",
    "\"\"\"\n",
    "\n",
    "\n",
    "prompt = mlflow.genai.register_prompt(\n",
    "    name=\"prateekagashe-sentiment-analyzer-prompt\",\n",
    "    template=initial_template,\n",
    "    commit_message=\"Initial commit\",\n",
    "    tags={\n",
    "        \"author\": \"Prateek Agashe\",\n",
    "        \"task\": \"Stock sentiment Generation\",\n",
    "        \"language\": \"en\",\n",
    "        'llm': 'gpt-4o-mini'\n",
    "    },\n",
    ")\n",
    "\n",
    "print(f\"Created prompt '{prompt.name}' (version {prompt.version})\")"
   ]
  },
  {
   "cell_type": "code",
   "execution_count": 51,
   "id": "0424e8fd",
   "metadata": {},
   "outputs": [
    {
     "name": "stderr",
     "output_type": "stream",
     "text": [
      "/tmp/ipykernel_2984/3420911521.py:2: FutureWarning: The `mlflow.set_prompt_alias` API is moved to the `mlflow.genai` namespace. Please use `mlflow.genai.set_prompt_alias` instead. The original API will be removed in the future release.\n",
      "  mlflow.set_prompt_alias(\"prateekagashe-sentiment-analyzer-prompt\", alias=\"default\", version=9)\n"
     ]
    }
   ],
   "source": [
    "# mlflow.set_prompt_alias(\"prateekagashe-stock-code-prompt\", alias=\"default\", version=5)\n",
    "mlflow.set_prompt_alias(\"prateekagashe-sentiment-analyzer-prompt\", alias=\"default\", version=9)"
   ]
  },
  {
   "cell_type": "code",
   "execution_count": null,
   "id": "44cc5b36",
   "metadata": {},
   "outputs": [],
   "source": []
  },
  {
   "cell_type": "code",
   "execution_count": 9,
   "id": "2c353f50",
   "metadata": {},
   "outputs": [],
   "source": [
    "import mlflow\n",
    "\n",
    "\n",
    "def stock_code_prompt(companies: list[str]) -> str:\n",
    "    stock_code_prompt_template = mlflow.load_prompt(f\"prompts:/prateekagashe-stock-code-prompt@default\")\n",
    "\n",
    "    return stock_code_prompt_template.format(company_name=\", \".join(companies))"
   ]
  },
  {
   "cell_type": "code",
   "execution_count": 10,
   "id": "06eef387",
   "metadata": {},
   "outputs": [],
   "source": [
    "from langchain.output_parsers import StructuredOutputParser, ResponseSchema\n",
    "\n",
    "\n",
    "response_schemas = [\n",
    "    ResponseSchema(name=\"company_name\", description=\"Name of the company\"),\n",
    "    ResponseSchema(name=\"stock_code\", description=\"Stock ticker code\"),\n",
    "    ResponseSchema(name=\"newsdesc\", description=\"Full news article text\"),\n",
    "    ResponseSchema(name=\"sentiment\", description='One of \"Positive\", \"Negative\", \"Neutral\"'),\n",
    "    ResponseSchema(name=\"people_names\", description=\"List of people mentioned\"),\n",
    "    ResponseSchema(name=\"places_names\", description=\"List of places mentioned\"),\n",
    "    ResponseSchema(name=\"other_companies_referred\", description=\"List of other companies mentioned\"),\n",
    "    ResponseSchema(name=\"related_industries\", description=\"List of related industries\"),\n",
    "    ResponseSchema(name=\"market_implications\", description=\"Short explanation of market impact\"),\n",
    "    ResponseSchema(name=\"confidence_score\", description=\"Float between 0 and 1 indicating confidence\"),\n",
    "]\n",
    "\n",
    "parser = StructuredOutputParser.from_response_schemas(response_schemas)\n",
    "format_instructions = parser.get_format_instructions()\n"
   ]
  },
  {
   "cell_type": "code",
   "execution_count": 11,
   "id": "0685520b",
   "metadata": {},
   "outputs": [
    {
     "name": "stderr",
     "output_type": "stream",
     "text": [
      "/tmp/ipykernel_7092/3104543603.py:3: FutureWarning: The `mlflow.load_prompt` API is moved to the `mlflow.genai` namespace. Please use `mlflow.genai.load_prompt` instead. The original API will be removed in the future release.\n",
      "  template = mlflow.load_prompt(f\"prompts:/prateekagashe-sentiment-analyzer-prompt@default\")\n"
     ]
    }
   ],
   "source": [
    "import mlflow\n",
    "\n",
    "template = mlflow.load_prompt(f\"prompts:/prateekagashe-sentiment-analyzer-prompt@default\")\n",
    "\n",
    "def stock_sentiment_prompt(company_name: str, stock_code: str, news_text: str):\n",
    "\n",
    "    full_prompt = template.format(\n",
    "        company_name=company_name,\n",
    "        stock_code=stock_code,\n",
    "        news_text=news_text,\n",
    "        format_instructions=format_instructions\n",
    "    )\n",
    "    return full_prompt\n"
   ]
  },
  {
   "cell_type": "code",
   "execution_count": 12,
   "id": "fd7d5950",
   "metadata": {},
   "outputs": [],
   "source": [
    "\n",
    "@mlflow_log\n",
    "def generateStockCode(prompt):\n",
    "\n",
    "    response  = model.invoke(prompt)\n",
    "    return response.content\n",
    "\n"
   ]
  },
  {
   "cell_type": "code",
   "execution_count": 13,
   "id": "35145d81",
   "metadata": {},
   "outputs": [],
   "source": [
    "@mlflow_log\n",
    "def extract_news_text(articles, company_name):\n",
    "\n",
    "    relevant_articles = [\n",
    "        a for a in articles\n",
    "        if company_name.lower() in (a.get(\"title\",\"\") + a.get(\"description\",\"\")).lower()\n",
    "    ]\n",
    "    \n",
    "    news_texts = []\n",
    "    for a in relevant_articles:\n",
    "        title = a.get(\"title\", \"\")\n",
    "        description = a.get(\"description\", \"\")\n",
    "        url = a.get(\"url\", \"\")\n",
    "        news_texts.append(f\"{title} - {description} ({url})\")\n",
    "    \n",
    "    return \"\\n\\n\".join(news_texts[:5])"
   ]
  },
  {
   "cell_type": "code",
   "execution_count": null,
   "id": "2d13ad0f",
   "metadata": {},
   "outputs": [],
   "source": [
    "import yfinance as yf\n",
    "import json\n",
    "import requests\n",
    "\n",
    "POLYGON_API_KEY = \"XXXXXXXXXXXXXXXXXXXXX\"\n",
    "@mlflow_log\n",
    "def generateStockNews(stock_data, news_limit: int = 10):\n",
    "    news_data = {\"companies\": []}\n",
    "    \n",
    "    if isinstance(stock_data, str):\n",
    "        stock_data = json.loads(stock_data)\n",
    "\n",
    "    for company in stock_data[\"companies\"]:\n",
    "        name = company[\"name\"]\n",
    "        stock_code = company[\"stock_code\"]\n",
    "        print(f\"Fetching data for {name} ({stock_code})\")\n",
    "        \n",
    "        try:\n",
    "            stock = yf.Ticker(stock_code)\n",
    "            hist = stock.history(period=\"1d\")\n",
    "            price = hist[\"Close\"].iloc[-1] if not hist.empty else None\n",
    "        except Exception as e:\n",
    "            print(f\"Error fetching price for {stock_code}: {e}\")\n",
    "            price = None\n",
    "        \n",
    "        news_text = \"\"\n",
    "        try:\n",
    "            url = f\"https://api.polygon.io/v2/reference/news?ticker={stock_code}&limit={news_limit}&apiKey={POLYGON_API_KEY}\"\n",
    "            response = requests.get(url)\n",
    "            if response.status_code == 200:\n",
    "                data = response.json()\n",
    "                articles = []\n",
    "                for item in data.get(\"results\", []):\n",
    "                    title = item.get(\"title\", \"\")\n",
    "                    description = item.get(\"description\", \"\")\n",
    "                    url = item.get(\"url\", \"\")\n",
    "                    articles.append(f\"{title} - {description} ({url})\")\n",
    "                news_text = \"\\n\\n\".join(articles)\n",
    "            else:\n",
    "                print(f\"Error fetching news for {stock_code}: {response.text}\")\n",
    "        except Exception as e:\n",
    "            print(f\"Exception fetching news for {stock_code}: {e}\")\n",
    "        \n",
    "        news_data[\"companies\"].append({\n",
    "            \"name\": name,\n",
    "            \"stock_code\": stock_code,\n",
    "            \"latest_price\": price,\n",
    "            \"news\": news_text\n",
    "        })\n",
    "\n",
    "    return news_data\n"
   ]
  },
  {
   "cell_type": "code",
   "execution_count": 15,
   "id": "812b64e5",
   "metadata": {},
   "outputs": [],
   "source": [
    "@mlflow_log\n",
    "def analyze_sentiment(companies_data):\n",
    "    structured_results = []\n",
    "\n",
    "    for company in companies_data[\"companies\"]:\n",
    "        prompt = stock_sentiment_prompt(\n",
    "            company_name=company[\"name\"],\n",
    "            stock_code=company[\"stock_code\"],\n",
    "            news_text=company[\"news\"]\n",
    "        )\n",
    "\n",
    "        sentiment_response = model.invoke(prompt)\n",
    "        result  = parser.parse(sentiment_response.content)\n",
    "        structured_results.append(result)\n",
    "    return structured_results\n"
   ]
  },
  {
   "cell_type": "code",
   "execution_count": 18,
   "id": "cbc3b9dd",
   "metadata": {},
   "outputs": [
    {
     "name": "stderr",
     "output_type": "stream",
     "text": [
      "2025/09/21 20:04:36 INFO mlflow.tracking.fluent: Experiment with name 'StockSentimentAnalysis_PrateekAgashe' does not exist. Creating a new experiment.\n",
      "/tmp/ipykernel_7092/3103021693.py:5: FutureWarning: The `mlflow.load_prompt` API is moved to the `mlflow.genai` namespace. Please use `mlflow.genai.load_prompt` instead. The original API will be removed in the future release.\n",
      "  stock_code_prompt_template = mlflow.load_prompt(f\"prompts:/prateekagashe-stock-code-prompt@default\")\n"
     ]
    },
    {
     "name": "stdout",
     "output_type": "stream",
     "text": [
      "Fetching data for Microsoft (MSFT)\n",
      "Fetching data for Apple Inc. (AAPL)\n",
      "[{'company_name': 'Microsoft', 'stock_code': 'MSFT', 'newsdesc': 'Nvidia, Microsoft Sit Atop A $23.9 Trillion Empire—More Than China And Germany Combined - Top 10 U.S. stocks have reached a combined market capitalization of $23.9 trillion, surpassing the GDPs of China and Germany. Nvidia leads with a $4.25 trillion market cap, driven by the AI boom, with seven tech giants responsible for over $20 trillion of total value.', 'sentiment': 'Positive', 'people_names': [], 'places_names': ['China', 'Germany'], 'other_companies_referred': ['Nvidia'], 'related_industries': ['Technology', 'AI', 'Finance'], 'market_implications': 'This news showcases the strong market position of Microsoft and its peers, indicating confidence in their growth potential, especially in the AI sector, which may positively influence Microsoft’s stock performance.', 'confidence_score': 0.8}, {'company_name': 'Apple Inc.', 'stock_code': 'AAPL', 'newsdesc': 'Apple: iPhone 17 Demand Hints at Long-Awaited Upgrade Cycle - Apple unveiled its iPhone 17 lineup with significant improvements, including enhanced display, camera, and battery life. Early preorder data suggests strong demand, potentially sparking a long-awaited upgrade cycle. The company also introduced Apple Intelligence, allowing third-party developers to integrate AI features into iOS applications.', 'sentiment': 'Positive', 'people_names': [], 'places_names': [], 'other_companies_referred': [], 'related_industries': ['Technology', 'Consumer Electronics'], 'market_implications': 'Strong demand for the iPhone 17 suggests a potential increase in revenue and market perception of Apple, positively impacting stock prices.', 'confidence_score': 0.85}]\n",
      "🏃 View run StockSentimentChain_prateekagashe at: http://20.75.92.162:5000/#/experiments/644781949387282336/runs/cb359722c1d44547bfe3deca21377c25\n",
      "🧪 View experiment at: http://20.75.92.162:5000/#/experiments/644781949387282336\n"
     ]
    }
   ],
   "source": [
    "from langchain.schema.runnable import RunnableLambda\n",
    "import mlflow\n",
    "stock_prompt_runnable = RunnableLambda(lambda companies: stock_code_prompt(companies))\n",
    "stock_code_runnable = RunnableLambda(lambda prompt: generateStockCode(prompt))\n",
    "stock_news_runnable = RunnableLambda(lambda stock_codes: generateStockNews(stock_codes))\n",
    "stock_sentiment_runnable = RunnableLambda(lambda stock_news: analyze_sentiment(stock_news))\n",
    "\n",
    "\n",
    "chain = stock_prompt_runnable | stock_code_runnable | stock_news_runnable | stock_sentiment_runnable\n",
    "\n",
    "companies_list = [\"Microsoft\", \"Apple Inc\"]\n",
    "mlflow.set_experiment(\"StockSentimentAnalysis_PrateekAgashe\")\n",
    "\n",
    "with mlflow.start_run(run_name=\"StockSentimentChain_prateekagashe\"):\n",
    "    result = chain.invoke(companies_list)\n",
    "    mlflow.log_text(str(result), \"final_result.json\")\n",
    "    print(result)\n",
    "\n"
   ]
  },
  {
   "cell_type": "markdown",
   "id": "d8aba010",
   "metadata": {},
   "source": []
  }
 ],
 "metadata": {
  "kernelspec": {
   "display_name": "genai",
   "language": "python",
   "name": "python3"
  },
  "language_info": {
   "codemirror_mode": {
    "name": "ipython",
    "version": 3
   },
   "file_extension": ".py",
   "mimetype": "text/x-python",
   "name": "python",
   "nbconvert_exporter": "python",
   "pygments_lexer": "ipython3",
   "version": "3.12.3"
  }
 },
 "nbformat": 4,
 "nbformat_minor": 5
}
